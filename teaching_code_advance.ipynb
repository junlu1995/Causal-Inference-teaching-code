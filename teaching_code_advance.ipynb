{
  "nbformat": 4,
  "nbformat_minor": 0,
  "metadata": {
    "colab": {
      "provenance": []
    },
    "kernelspec": {
      "name": "python3",
      "display_name": "Python 3"
    },
    "language_info": {
      "name": "python"
    }
  },
  "cells": [
    {
      "cell_type": "markdown",
      "source": [
        "## Load packages"
      ],
      "metadata": {
        "id": "hyFcNA1cTKOy"
      }
    },
    {
      "cell_type": "code",
      "execution_count": 58,
      "metadata": {
        "colab": {
          "base_uri": "https://localhost:8080/"
        },
        "id": "R8TCqbM4PgXs",
        "outputId": "5be549e6-5b58-4637-f68a-c3cde3b0e089"
      },
      "outputs": [
        {
          "output_type": "stream",
          "name": "stdout",
          "text": [
            "Requirement already satisfied: numpy in /usr/local/lib/python3.11/dist-packages (1.26.4)\n",
            "Requirement already satisfied: pandas in /usr/local/lib/python3.11/dist-packages (2.2.2)\n",
            "Requirement already satisfied: econml in /usr/local/lib/python3.11/dist-packages (0.15.1)\n",
            "Requirement already satisfied: scikit-learn in /usr/local/lib/python3.11/dist-packages (1.5.2)\n",
            "Requirement already satisfied: doubleml in /usr/local/lib/python3.11/dist-packages (0.9.3)\n",
            "Requirement already satisfied: python-dateutil>=2.8.2 in /usr/local/lib/python3.11/dist-packages (from pandas) (2.8.2)\n",
            "Requirement already satisfied: pytz>=2020.1 in /usr/local/lib/python3.11/dist-packages (from pandas) (2024.2)\n",
            "Requirement already satisfied: tzdata>=2022.7 in /usr/local/lib/python3.11/dist-packages (from pandas) (2025.1)\n",
            "Requirement already satisfied: scipy>1.4.0 in /usr/local/lib/python3.11/dist-packages (from econml) (1.13.1)\n",
            "Requirement already satisfied: sparse in /usr/local/lib/python3.11/dist-packages (from econml) (0.15.5)\n",
            "Requirement already satisfied: joblib>=0.13.0 in /usr/local/lib/python3.11/dist-packages (from econml) (1.4.2)\n",
            "Requirement already satisfied: statsmodels>=0.10 in /usr/local/lib/python3.11/dist-packages (from econml) (0.14.4)\n",
            "Requirement already satisfied: shap<0.44.0,>=0.38.1 in /usr/local/lib/python3.11/dist-packages (from econml) (0.43.0)\n",
            "Requirement already satisfied: lightgbm in /usr/local/lib/python3.11/dist-packages (from econml) (4.5.0)\n",
            "Requirement already satisfied: packaging in /usr/local/lib/python3.11/dist-packages (from econml) (24.2)\n",
            "Requirement already satisfied: threadpoolctl>=3.1.0 in /usr/local/lib/python3.11/dist-packages (from scikit-learn) (3.5.0)\n",
            "Requirement already satisfied: matplotlib in /usr/local/lib/python3.11/dist-packages (from doubleml) (3.10.0)\n",
            "Requirement already satisfied: plotly in /usr/local/lib/python3.11/dist-packages (from doubleml) (5.24.1)\n",
            "Requirement already satisfied: six>=1.5 in /usr/local/lib/python3.11/dist-packages (from python-dateutil>=2.8.2->pandas) (1.17.0)\n",
            "Requirement already satisfied: tqdm>=4.27.0 in /usr/local/lib/python3.11/dist-packages (from shap<0.44.0,>=0.38.1->econml) (4.67.1)\n",
            "Requirement already satisfied: slicer==0.0.7 in /usr/local/lib/python3.11/dist-packages (from shap<0.44.0,>=0.38.1->econml) (0.0.7)\n",
            "Requirement already satisfied: numba in /usr/local/lib/python3.11/dist-packages (from shap<0.44.0,>=0.38.1->econml) (0.60.0)\n",
            "Requirement already satisfied: cloudpickle in /usr/local/lib/python3.11/dist-packages (from shap<0.44.0,>=0.38.1->econml) (3.1.1)\n",
            "Requirement already satisfied: patsy>=0.5.6 in /usr/local/lib/python3.11/dist-packages (from statsmodels>=0.10->econml) (1.0.1)\n",
            "Requirement already satisfied: contourpy>=1.0.1 in /usr/local/lib/python3.11/dist-packages (from matplotlib->doubleml) (1.3.1)\n",
            "Requirement already satisfied: cycler>=0.10 in /usr/local/lib/python3.11/dist-packages (from matplotlib->doubleml) (0.12.1)\n",
            "Requirement already satisfied: fonttools>=4.22.0 in /usr/local/lib/python3.11/dist-packages (from matplotlib->doubleml) (4.55.7)\n",
            "Requirement already satisfied: kiwisolver>=1.3.1 in /usr/local/lib/python3.11/dist-packages (from matplotlib->doubleml) (1.4.8)\n",
            "Requirement already satisfied: pillow>=8 in /usr/local/lib/python3.11/dist-packages (from matplotlib->doubleml) (11.1.0)\n",
            "Requirement already satisfied: pyparsing>=2.3.1 in /usr/local/lib/python3.11/dist-packages (from matplotlib->doubleml) (3.2.1)\n",
            "Requirement already satisfied: tenacity>=6.2.0 in /usr/local/lib/python3.11/dist-packages (from plotly->doubleml) (9.0.0)\n",
            "Requirement already satisfied: llvmlite<0.44,>=0.43.0dev0 in /usr/local/lib/python3.11/dist-packages (from numba->shap<0.44.0,>=0.38.1->econml) (0.43.0)\n"
          ]
        }
      ],
      "source": [
        "!pip install numpy pandas econml scikit-learn doubleml\n",
        "\n",
        "import numpy as np\n",
        "import pandas as pd\n",
        "from doubleml import DoubleMLPLR\n",
        "from sklearn.base import clone\n",
        "from sklearn.ensemble import RandomForestRegressor\n",
        "from sklearn.linear_model import LassoCV"
      ]
    },
    {
      "cell_type": "markdown",
      "source": [
        "## Load Data"
      ],
      "metadata": {
        "id": "nL1H08xTTfjq"
      }
    },
    {
      "cell_type": "code",
      "source": [
        "import pandas as pd\n",
        "\n",
        "# Correct Lalonde dataset URL from a reliable GitHub repository (raw CSV data)\n",
        "url = \"https://raw.githubusercontent.com/robjellis/lalonde/master/lalonde_data.csv\"\n",
        "\n",
        "# Read CSV file into a Pandas DataFrame\n",
        "df = pd.read_csv(url)\n",
        "\n",
        "# Display first few rows\n",
        "print(df.head())\n",
        "\n",
        "# Show available column names\n",
        "print(df.columns)"
      ],
      "metadata": {
        "colab": {
          "base_uri": "https://localhost:8080/"
        },
        "id": "0se3SrGoS-vY",
        "outputId": "bff7cf48-d414-4014-a199-fd3d8af82495"
      },
      "execution_count": 59,
      "outputs": [
        {
          "output_type": "stream",
          "name": "stdout",
          "text": [
            "     ID  treat  age  educ  black  hispan  married  nodegree  re74  re75  \\\n",
            "0  NSW1      1   37    11      1       0        1         1   0.0   0.0   \n",
            "1  NSW2      1   22     9      0       1        0         1   0.0   0.0   \n",
            "2  NSW3      1   30    12      1       0        0         0   0.0   0.0   \n",
            "3  NSW4      1   27    11      1       0        0         1   0.0   0.0   \n",
            "4  NSW5      1   33     8      1       0        0         1   0.0   0.0   \n",
            "\n",
            "         re78  \n",
            "0   9930.0460  \n",
            "1   3595.8940  \n",
            "2  24909.4500  \n",
            "3   7506.1460  \n",
            "4    289.7899  \n",
            "Index(['ID', 'treat', 'age', 'educ', 'black', 'hispan', 'married', 'nodegree',\n",
            "       're74', 're75', 're78'],\n",
            "      dtype='object')\n"
          ]
        }
      ]
    },
    {
      "cell_type": "code",
      "source": [
        "# Define outcome (Y), treatment (A), and covariates (X)\n",
        "Y = df['re78'].values\n",
        "A = df['treat'].values\n",
        "X = df.drop(columns=['treat', 're78', 'ID']).values  # Covariates"
      ],
      "metadata": {
        "id": "MKzP9fLvRt4o"
      },
      "execution_count": 60,
      "outputs": []
    },
    {
      "cell_type": "markdown",
      "source": [
        "## Double Machine Learning"
      ],
      "metadata": {
        "id": "5rhZPJn1UBzU"
      }
    },
    {
      "cell_type": "markdown",
      "source": [
        "### Choose ML model"
      ],
      "metadata": {
        "id": "MTZs2-hhUFON"
      }
    },
    {
      "cell_type": "code",
      "source": [
        "from sklearn.ensemble import RandomForestRegressor, RandomForestClassifier\n",
        "\n",
        "learner = RandomForestRegressor(n_estimators = 500, max_features = 'sqrt', max_depth= 5)\n",
        "outcome_m = clone(learner)\n",
        "treat_m = clone(learner)\n",
        "outcome_m = clone(learner)\n",
        "treat_m = clone(learner)"
      ],
      "metadata": {
        "id": "eC-wVgElUJM3"
      },
      "execution_count": 61,
      "outputs": []
    },
    {
      "cell_type": "code",
      "source": [
        "from doubleml import DoubleMLPLR\n",
        "from doubleml import DoubleMLData\n",
        "import numpy as np\n",
        "\n",
        "np.random.seed(3141)\n",
        "dml_data = DoubleMLData.from_arrays(X, Y, A)\n",
        "dml_m = DoubleMLPLR(dml_data, outcome_m, treat_m)\n",
        "\n",
        "dml_m .fit();\n",
        "\n",
        "print(dml_m)"
      ],
      "metadata": {
        "colab": {
          "base_uri": "https://localhost:8080/"
        },
        "id": "B6VN4muPTpqh",
        "outputId": "cbcbc74f-9a4a-4ede-9025-ec6b45642bd8"
      },
      "execution_count": 62,
      "outputs": [
        {
          "output_type": "stream",
          "name": "stdout",
          "text": [
            "================== DoubleMLPLR Object ==================\n",
            "\n",
            "------------------ Data summary      ------------------\n",
            "Outcome variable: y\n",
            "Treatment variable(s): ['d']\n",
            "Covariates: ['X1', 'X2', 'X3', 'X4', 'X5', 'X6', 'X7', 'X8']\n",
            "Instrument variable(s): None\n",
            "No. Observations: 614\n",
            "\n",
            "------------------ Score & algorithm ------------------\n",
            "Score function: partialling out\n",
            "\n",
            "------------------ Machine learner   ------------------\n",
            "Learner ml_l: RandomForestRegressor(max_depth=5, max_features='sqrt', n_estimators=500)\n",
            "Learner ml_m: RandomForestRegressor(max_depth=5, max_features='sqrt', n_estimators=500)\n",
            "Out-of-sample Performance:\n",
            "Regression:\n",
            "Learner ml_l RMSE: [[6878.9998315]]\n",
            "Learner ml_m RMSE: [[0.33357665]]\n",
            "\n",
            "------------------ Resampling        ------------------\n",
            "No. folds: 5\n",
            "No. repeated sample splits: 1\n",
            "\n",
            "------------------ Fit summary       ------------------\n",
            "         coef     std err         t     P>|t|       2.5 %       97.5 %\n",
            "d  990.872539  778.702127  1.272467  0.203207 -535.355584  2517.100662\n"
          ]
        }
      ]
    },
    {
      "cell_type": "markdown",
      "source": [
        "## Meta learners"
      ],
      "metadata": {
        "id": "gCZjafNeWIeY"
      }
    },
    {
      "cell_type": "code",
      "source": [
        "from econml.metalearners import SLearner, TLearner, XLearner\n",
        "# --- S-Learner ---\n",
        "s_learner = SLearner(overall_model=RandomForestRegressor(n_estimators=100, max_depth=5, random_state=42))\n",
        "s_learner.fit(Y = Y, T = A, X= X)\n",
        "cate_s = s_learner.effect(X)\n",
        "print(\"S-Learner CATE (First 5):\", cate_s[:5])\n",
        "\n",
        "# --- T-Learner ---\n",
        "t_learner = TLearner(models=RandomForestRegressor(n_estimators=100, max_depth=5, random_state=42))\n",
        "t_learner.fit(Y = Y, T = A, X= X)  # Corrected order\n",
        "cate_t = t_learner.effect(X)\n",
        "print(\"T-Learner CATE (First 5):\", cate_t[:5])\n",
        "\n",
        "# --- X-Learner ---\n",
        "x_learner = XLearner(models=RandomForestRegressor(n_estimators=100, max_depth=5, random_state=42))\n",
        "x_learner.fit(Y = Y, T = A, X= X)  # Corrected order\n",
        "cate_x = x_learner.effect(X)\n",
        "print(\"X-Learner CATE (First 5):\", cate_x[:5])\n",
        "\n",
        "\n"
      ],
      "metadata": {
        "colab": {
          "base_uri": "https://localhost:8080/"
        },
        "id": "x_BvGUvAVsZT",
        "outputId": "2e0b4201-6e3c-4608-c350-135703478eb5"
      },
      "execution_count": 54,
      "outputs": [
        {
          "output_type": "stream",
          "name": "stdout",
          "text": [
            "S-Learner CATE (First 5): [670.71754899 140.39480343 471.97778408 206.19948059 326.96483731]\n",
            "T-Learner CATE (First 5): [4732.08646408  199.22156996 3979.21160404 2408.87200004 -533.88062383]\n",
            "X-Learner CATE (First 5): [3889.45443558  836.09376826 3845.40167179 3146.94260228 2734.43873389]\n"
          ]
        },
        {
          "output_type": "stream",
          "name": "stderr",
          "text": [
            "lbfgs failed to converge (status=1):\n",
            "STOP: TOTAL NO. of ITERATIONS REACHED LIMIT.\n",
            "\n",
            "Increase the number of iterations (max_iter) or scale the data as shown in:\n",
            "    https://scikit-learn.org/stable/modules/preprocessing.html\n",
            "Please also refer to the documentation for alternative solver options:\n",
            "    https://scikit-learn.org/stable/modules/linear_model.html#logistic-regression\n"
          ]
        }
      ]
    },
    {
      "cell_type": "markdown",
      "source": [],
      "metadata": {
        "id": "aEZdW4AGZuEi"
      }
    },
    {
      "cell_type": "code",
      "source": [
        "# --- DR-Learner ---\n",
        "from econml.dr import DRLearner\n",
        "n = X.shape[0]  # Number of observations\n",
        "\n",
        "outcome_model = RandomForestRegressor(n_estimators=100, max_depth=5, random_state=42)\n",
        "pseudo_treatment_model = RandomForestRegressor(n_estimators=100, max_depth=5, random_state=42)\n",
        "propensity_model = RandomForestClassifier(n_estimators=100, max_depth=6,\n",
        "                                                  min_samples_leaf=int(n/100))\n",
        "\n",
        "DR_learner = DRLearner(model_regression=outcome_model, model_propensity=propensity_model,\n",
        "                       model_final=pseudo_treatment_model, cv=5)\n",
        "# Train DR_learner\n",
        "DR_learner.fit(Y = Y, T = A, X= X)\n",
        "# Estimate treatment effects on test data\n",
        "DR_te = DR_learner.effect(X)\n",
        "print(\"DR-Learner CATE (First 5):\", DR_te[:5])"
      ],
      "metadata": {
        "colab": {
          "base_uri": "https://localhost:8080/"
        },
        "id": "7F_0sFbGZuet",
        "outputId": "1a643020-abcd-40b9-9fe4-caa503e60d96"
      },
      "execution_count": 57,
      "outputs": [
        {
          "output_type": "stream",
          "name": "stdout",
          "text": [
            "DR-Learner CATE (First 5): [2591.26488645 1248.68121539 2332.85303044 2008.05655409 2163.0696579 ]\n"
          ]
        }
      ]
    }
  ]
}